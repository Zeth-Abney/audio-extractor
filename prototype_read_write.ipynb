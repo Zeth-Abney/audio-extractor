{
 "cells": [
  {
   "cell_type": "markdown",
   "metadata": {},
   "source": [
    "### Reading mp4, stripping and writing to mp3 "
   ]
  },
  {
   "cell_type": "code",
   "execution_count": 85,
   "metadata": {},
   "outputs": [],
   "source": [
    "import moviepy.editor"
   ]
  },
  {
   "cell_type": "code",
   "execution_count": 86,
   "metadata": {},
   "outputs": [],
   "source": [
    "# video = moviepy.editor.VideoFileClip('test-reads\\lamborghini mercy remix.mp4')"
   ]
  },
  {
   "cell_type": "code",
   "execution_count": 87,
   "metadata": {},
   "outputs": [],
   "source": [
    "# audio = video.audio"
   ]
  },
  {
   "cell_type": "code",
   "execution_count": 88,
   "metadata": {},
   "outputs": [],
   "source": [
    "# audio.write_audiofile('test-writes\\lamborghini mercy remix.mp3')"
   ]
  },
  {
   "cell_type": "code",
   "execution_count": 89,
   "metadata": {},
   "outputs": [],
   "source": [
    "from os import listdir\n",
    "from os.path import isfile, join\n"
   ]
  },
  {
   "cell_type": "code",
   "execution_count": 90,
   "metadata": {},
   "outputs": [
    {
     "data": {
      "text/plain": [
       "['lamborghini mercy remix.mp4',\n",
       " 'panda remix.mp4',\n",
       " 'purple hat.mp4',\n",
       " 'stanking ass bitch, hit you with the blick.mp4',\n",
       " 'thing of beauty.mp4']"
      ]
     },
     "execution_count": 90,
     "metadata": {},
     "output_type": "execute_result"
    }
   ],
   "source": [
    "source = \"test-reads/\"\n",
    "# gets name of each file and replaces 4 with 3 \n",
    "file_names= [f for f in listdir(source) if isfile(join(source, f))]\n",
    "destination = \"test-writes/\"\n",
    "\n",
    "file_names"
   ]
  },
  {
   "cell_type": "code",
   "execution_count": 91,
   "metadata": {},
   "outputs": [
    {
     "data": {
      "text/plain": [
       "'test-reads/lamborghini mercy remix.mp4'"
      ]
     },
     "execution_count": 91,
     "metadata": {},
     "output_type": "execute_result"
    }
   ],
   "source": [
    "source+file_names[0]"
   ]
  },
  {
   "cell_type": "code",
   "execution_count": 92,
   "metadata": {},
   "outputs": [],
   "source": [
    "\n",
    "video = moviepy.editor.VideoFileClip(source+file_names[0])\n",
    "audio = video.audio\n"
   ]
  },
  {
   "cell_type": "code",
   "execution_count": 94,
   "metadata": {},
   "outputs": [
    {
     "data": {
      "text/plain": [
       "'test-writes/lamborghini mercy remix.mp3'"
      ]
     },
     "execution_count": 94,
     "metadata": {},
     "output_type": "execute_result"
    }
   ],
   "source": [
    "write_path = destination+file_names[0].replace(\"4\",\"3\")\n",
    "write_path"
   ]
  },
  {
   "cell_type": "code",
   "execution_count": null,
   "metadata": {},
   "outputs": [],
   "source": [
    "audio.write_audiofile(write_path,verbose=False)"
   ]
  },
  {
   "cell_type": "code",
   "execution_count": 101,
   "metadata": {},
   "outputs": [
    {
     "name": "stdout",
     "output_type": "stream",
     "text": [
      "test-writes/lamborghini mercy remix.mp3\n",
      "test-writes/panda remix.mp3\n",
      "test-writes/purple hat.mp3\n",
      "test-writes/stanking ass bitch, hit you with the blick.mp3\n",
      "test-writes/thing of beauty.mp3\n"
     ]
    }
   ],
   "source": [
    "for file in file_names: \n",
    "        file = file.replace(\"4\",\"3\")\n",
    "        write_path = destination+file\n",
    "        print(write_path)"
   ]
  },
  {
   "cell_type": "code",
   "execution_count": null,
   "metadata": {},
   "outputs": [],
   "source": [
    "file_names = [f for f in listdir(source) if isfile(join(source, f))]\n",
    "for file in file_names: \n",
    "    video = moviepy.editor.VideoFileClip(source+file)\n",
    "    audio = video.audio\n",
    "    file = file.replace(\"4\",\"3\")\n",
    "    write_path = destination+file\n",
    "    audio.write_audiofile(write_path,verbose=False)"
   ]
  },
  {
   "cell_type": "markdown",
   "metadata": {},
   "source": [
    "### Formalizing read and write function"
   ]
  },
  {
   "cell_type": "code",
   "execution_count": 108,
   "metadata": {},
   "outputs": [],
   "source": [
    "def write_mp3(source:str,destination:str):\n",
    "    file_names = [f for f in listdir(source) if isfile(join(source, f))]\n",
    "    for file in file_names: \n",
    "        video = moviepy.editor.VideoFileClip(source+file)\n",
    "        audio = video.audio\n",
    "        file = file.replace(\"4\",\"3\")\n",
    "        write_path = destination+file\n",
    "        audio.write_audiofile(write_path)"
   ]
  },
  {
   "cell_type": "code",
   "execution_count": null,
   "metadata": {},
   "outputs": [],
   "source": [
    "write_mp3(source,destination)"
   ]
  },
  {
   "cell_type": "markdown",
   "metadata": {},
   "source": [
    "### Taking user input for source and destination"
   ]
  },
  {
   "cell_type": "code",
   "execution_count": 112,
   "metadata": {},
   "outputs": [],
   "source": [
    "def user_input():\n",
    "    source = input(\"Please input a source folder: \")\n",
    "    destination = input(\"Please input a destination folder: \")\n",
    "    return source,destination"
   ]
  },
  {
   "cell_type": "code",
   "execution_count": 113,
   "metadata": {},
   "outputs": [],
   "source": [
    "source,destination = user_input()"
   ]
  },
  {
   "cell_type": "code",
   "execution_count": 114,
   "metadata": {},
   "outputs": [
    {
     "data": {
      "text/plain": [
       "'test-writes'"
      ]
     },
     "execution_count": 114,
     "metadata": {},
     "output_type": "execute_result"
    }
   ],
   "source": [
    "source"
   ]
  },
  {
   "cell_type": "code",
   "execution_count": null,
   "metadata": {},
   "outputs": [],
   "source": []
  }
 ],
 "metadata": {
  "kernelspec": {
   "display_name": "Python ('content-creator')",
   "language": "python",
   "name": "python3"
  },
  "language_info": {
   "codemirror_mode": {
    "name": "ipython",
    "version": 3
   },
   "file_extension": ".py",
   "mimetype": "text/x-python",
   "name": "python",
   "nbconvert_exporter": "python",
   "pygments_lexer": "ipython3",
   "version": ""
  },
  "orig_nbformat": 4,
  "vscode": {
   "interpreter": {
    "hash": "25a19fbe0a9132dfb9279d48d161753c6352f8f9478c2e74383d340069b907c3"
   }
  }
 },
 "nbformat": 4,
 "nbformat_minor": 2
}
